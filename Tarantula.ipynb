{
 "cells": [
  {
   "cell_type": "code",
   "execution_count": 2,
   "metadata": {},
   "outputs": [],
   "source": [
    ">>> from astropy.io import fits\n",
    ">>> from astropy.coordinates import SkyCoord\n",
    ">>> from astropy.wcs import WCS\n",
    ">>> import astropy.units as u\n",
    ">>> import numpy as np"
   ]
  },
  {
   "cell_type": "code",
   "execution_count": 3,
   "metadata": {},
   "outputs": [],
   "source": [
    ">>> hdulist = fits.open(\"GAUS_Ha6562.8_060_Will.fits\")"
   ]
  },
  {
   "cell_type": "code",
   "execution_count": 4,
   "metadata": {},
   "outputs": [],
   "source": [
    ">>> vhdu = hdulist[2]"
   ]
  },
  {
   "cell_type": "code",
   "execution_count": 5,
   "metadata": {},
   "outputs": [
    {
     "name": "stderr",
     "output_type": "stream",
     "text": [
      "WARNING: FITSFixedWarning: The WCS transformation has more axes (3) than the image it is associated with (2) [astropy.wcs.wcs]\n"
     ]
    }
   ],
   "source": [
    ">>> w = WCS(vhdu)\n"
   ]
  },
  {
   "cell_type": "code",
   "execution_count": 6,
   "metadata": {},
   "outputs": [
    {
     "data": {
      "text/plain": [
       "WCS Keywords\n",
       "\n",
       "Number of WCS axes: 3\n",
       "CTYPE : 'RA---TAN'  'DEC--TAN'  'AWAV'  \n",
       "CRVAL : 84.688309  -69.105970125  4.5999873046875003e-07  \n",
       "CRPIX : 220.92793852  213.660785628  1.0  \n",
       "CD1_1 CD1_2 CD1_3  : -5.52742276729e-05  -9.66418424553e-08  0.0  \n",
       "CD2_1 CD2_2 CD2_3  : -4.91681964084e-07  5.53153613478e-05  0.0  \n",
       "CD3_1 CD3_2 CD3_3  : 0.0  0.0  1.25e-10  \n",
       "NAXIS : 650  650"
      ]
     },
     "execution_count": 6,
     "metadata": {},
     "output_type": "execute_result"
    }
   ],
   "source": [
    "w"
   ]
  },
  {
   "cell_type": "code",
   "execution_count": 7,
   "metadata": {},
   "outputs": [],
   "source": [
    ">>> w = w.celestial"
   ]
  },
  {
   "cell_type": "code",
   "execution_count": 8,
   "metadata": {},
   "outputs": [
    {
     "data": {
      "text/plain": [
       "WCS Keywords\n",
       "\n",
       "Number of WCS axes: 2\n",
       "CTYPE : 'RA---TAN'  'DEC--TAN'  \n",
       "CRVAL : 84.688309  -69.105970125  \n",
       "CRPIX : 220.92793852  213.660785628  \n",
       "CD1_1 CD1_2  : -5.52742276729e-05  -9.66418424553e-08  \n",
       "CD2_1 CD2_2  : -4.91681964084e-07  5.53153613478e-05  \n",
       "NAXIS : 650  650"
      ]
     },
     "execution_count": 8,
     "metadata": {},
     "output_type": "execute_result"
    }
   ],
   "source": [
    "w"
   ]
  },
  {
   "cell_type": "code",
   "execution_count": 9,
   "metadata": {},
   "outputs": [
    {
     "data": {
      "text/plain": [
       "       flag: 137\n",
       "      naxis: 2\n",
       "      crpix: 0x383d190\n",
       "               220.93       213.66    \n",
       "         pc: 0x37a53f0\n",
       "    pc[0][]:  -5.5274e-05  -9.6642e-08\n",
       "    pc[1][]:  -4.9168e-07   5.5315e-05\n",
       "      cdelt: 0x383d9b0\n",
       "               1.0000       1.0000    \n",
       "      crval: 0x38194d0\n",
       "               84.688      -69.106    \n",
       "      cunit: 0x36d8400\n",
       "             \"deg\"\n",
       "             \"deg\"\n",
       "      ctype: 0x36f4410\n",
       "             \"RA---TAN\"\n",
       "             \"DEC--TAN\"\n",
       "    lonpole: 180.000000\n",
       "    latpole: -69.105970\n",
       "    restfrq: 0.000000\n",
       "    restwav: 0.000000\n",
       "        npv: 1\n",
       "     npvmax: 1\n",
       "         pv: 0x37d5d90\n",
       "               2   1   0.0000    \n",
       "        nps: 0\n",
       "     npsmax: 0\n",
       "         ps: 0x0\n",
       "         cd: 0x370a960\n",
       "    cd[0][]:  -5.5274e-05  -9.6642e-08\n",
       "    cd[1][]:  -4.9168e-07   5.5315e-05\n",
       "      crota: 0x3802290\n",
       "               0.0000       0.0000    \n",
       "     altlin: 2\n",
       "     velref: 0\n",
       "        alt: ' '\n",
       "     colnum: 0\n",
       "      colax: 0x38006a0\n",
       "                 0      0\n",
       "      cname: 0x36f1420\n",
       "             UNDEFINED\n",
       "             UNDEFINED\n",
       "      crder: 0x34643d0\n",
       "               UNDEFINED    UNDEFINED\n",
       "      csyer: 0x33f3e00\n",
       "              1.5103e-05   5.7677e-06\n",
       "      czphs: 0x3857e40\n",
       "               UNDEFINED    UNDEFINED\n",
       "      cperi: 0x3859d70\n",
       "               UNDEFINED    UNDEFINED\n",
       "    wcsname: UNDEFINED\n",
       "    timesys: UNDEFINED\n",
       "    trefpos: UNDEFINED\n",
       "    trefdir: UNDEFINED\n",
       "    plephem: UNDEFINED\n",
       "   timeunit: UNDEFINED\n",
       "    dateref: UNDEFINED\n",
       "     mjdref:        UNDEFINED       UNDEFINED\n",
       "   timeoffs: UNDEFINED\n",
       "    dateobs: UNDEFINED\n",
       "    datebeg: UNDEFINED\n",
       "    dateavg: UNDEFINED\n",
       "    dateend: UNDEFINED\n",
       "     mjdobs: UNDEFINED\n",
       "     mjdbeg: UNDEFINED\n",
       "     mjdavg: UNDEFINED\n",
       "     mjdend: UNDEFINED\n",
       "     jepoch: UNDEFINED\n",
       "     bepoch: UNDEFINED\n",
       "     tstart: UNDEFINED\n",
       "      tstop: UNDEFINED\n",
       "    xposure: UNDEFINED\n",
       "    telapse: UNDEFINED\n",
       "    timsyer: UNDEFINED\n",
       "    timrder: UNDEFINED\n",
       "    timedel: UNDEFINED\n",
       "   timepixr: UNDEFINED\n",
       "     obsgeo:        UNDEFINED       UNDEFINED       UNDEFINED\n",
       "                    UNDEFINED       UNDEFINED       UNDEFINED\n",
       "   obsorbit: UNDEFINED\n",
       "    radesys: \"FK5\"\n",
       "    equinox:   2000.000000000\n",
       "    specsys: UNDEFINED\n",
       "    ssysobs: UNDEFINED\n",
       "    velosys: UNDEFINED\n",
       "    zsource: UNDEFINED\n",
       "    ssyssrc: UNDEFINED\n",
       "    velangl: UNDEFINED\n",
       "       ntab: 0\n",
       "        tab: 0x0\n",
       "       nwtb: 0\n",
       "        wtb: 0x0\n",
       "      types: 0x383e180\n",
       "            2200 2201\n",
       "     lngtyp: \"RA\"\n",
       "     lattyp: \"DEC\"\n",
       "        lng: 0\n",
       "        lat: 1\n",
       "       spec: -1\n",
       "   cubeface: -1\n",
       "        err: 0x0\n",
       "        lin: (see below)\n",
       "        cel: (see below)\n",
       "        spc: (see below)\n",
       "     m_flag: 137\n",
       "    m_naxis: 2\n",
       "    m_crpix: 0x383d190  (= crpix)\n",
       "       m_pc: 0x37a53f0  (= pc)\n",
       "    m_cdelt: 0x383d9b0  (= cdelt)\n",
       "    m_crval: 0x38194d0  (= crval)\n",
       "    m_cunit: 0x36d8400  (= cunit)\n",
       "    m_ctype: 0x36f4410  (= ctype)\n",
       "       m_pv: 0x37d5d90  (= pv)\n",
       "       m_ps: 0x0  (= ps)\n",
       "       m_cd: 0x370a960  (= cd)\n",
       "    m_crota: 0x3802290  (= crota)\n",
       "\n",
       "    m_colax: 0x38006a0  (= colax)\n",
       "    m_cname: 0x36f1420  (= cname)\n",
       "    m_crder: 0x34643d0  (= crder)\n",
       "    m_csyer: 0x33f3e00  (= csyer)\n",
       "    m_czphs: 0x3857e40  (= czphs)\n",
       "    m_cperi: 0x3859d70  (= cperi)\n",
       "      m_tab: 0x0  (= tab)\n",
       "      m_wtb: 0x0  (= wtb)\n",
       "\n",
       "   lin.*\n",
       "       flag: 137\n",
       "      naxis: 2\n",
       "      crpix: 0x383d190\n",
       "               220.93       213.66    \n",
       "         pc: 0x37a53f0\n",
       "    pc[0][]:  -5.5274e-05  -9.6642e-08\n",
       "    pc[1][]:  -4.9168e-07   5.5315e-05\n",
       "      cdelt: 0x383d9b0\n",
       "               1.0000       1.0000    \n",
       "     dispre: 0x0\n",
       "     disseq: 0x0\n",
       "piximg[0][]:  -5.5274e-05  -9.6642e-08\n",
       "piximg[1][]:  -4.9168e-07   5.5315e-05\n",
       "imgpix[0][]:  -18091.      -31.607    \n",
       "imgpix[1][]:  -160.81       18078.    \n",
       "    i_naxis: 2\n",
       "      unity: 0\n",
       "     affine: 1\n",
       "     simple: 0\n",
       "        err: 0x0\n",
       "     tmpcrd: 0x387a320\n",
       "     m_flag: 0\n",
       "    m_naxis: 0\n",
       "    m_crpix: 0x0\n",
       "       m_pc: 0x0\n",
       "    m_cdelt: 0x0\n",
       "   m_dispre: 0x0\n",
       "   m_disseq: 0x0\n",
       "\n",
       "   cel.*\n",
       "      flag: 137\n",
       "     offset: 0\n",
       "       phi0:  0.000000\n",
       "     theta0: 90.000000\n",
       "        ref:   84.688      -69.106       180.00      -69.106    \n",
       "        prj: (see below)\n",
       "      euler:   84.688       159.11       180.00      -0.93424      0.35664   \n",
       "    latpreq: 0 (not required)\n",
       "     isolat: 0\n",
       "        err: 0x0\n",
       "\n",
       "   prj.*\n",
       "       flag: 103\n",
       "       code: \"TAN\"\n",
       "         r0: 57.295780\n",
       "         pv: (not used)\n",
       "       phi0:  0.000000\n",
       "     theta0: 90.000000\n",
       "     bounds: 7\n",
       "\n",
       "       name: \"gnomonic\"\n",
       "   category: 1 (zenithal)\n",
       "    pvrange: 0\n",
       "  simplezen: 1\n",
       "  equiareal: 0\n",
       "  conformal: 0\n",
       "     global: 0\n",
       "  divergent: 1\n",
       "         x0: 0.000000\n",
       "         y0: 0.000000\n",
       "        err: 0x0\n",
       "        w[]:   0.0000       0.0000       0.0000       0.0000       0.0000    \n",
       "               0.0000       0.0000       0.0000       0.0000       0.0000    \n",
       "          m: 0\n",
       "          n: 0\n",
       "     prjx2s: 0x7f4a2071b550\n",
       "     prjs2x: 0x7f4a2071b920\n",
       "\n",
       "   spc.*\n",
       "       flag: 0\n",
       "       type: \"    \"\n",
       "       code: \"   \"\n",
       "      crval: UNDEFINED\n",
       "    restfrq: 0.000000\n",
       "    restwav: 0.000000\n",
       "         pv: (not used)\n",
       "          w:   0.0000       0.0000       0.0000      (remainder unused)\n",
       "    isGrism: 0\n",
       "        err: 0x0\n",
       "     spxX2P: 0x0\n",
       "     spxP2S: 0x0\n",
       "     spxS2P: 0x0\n",
       "     spxP2X: 0x0"
      ]
     },
     "execution_count": 9,
     "metadata": {},
     "output_type": "execute_result"
    }
   ],
   "source": [
    ">>> w.wcs"
   ]
  },
  {
   "cell_type": "code",
   "execution_count": 10,
   "metadata": {},
   "outputs": [
    {
     "data": {
      "text/plain": [
       "<bound method HighLevelWCSMixin.pixel_to_world of WCS Keywords\n",
       "\n",
       "Number of WCS axes: 2\n",
       "CTYPE : 'RA---TAN'  'DEC--TAN'  \n",
       "CRVAL : 84.688309  -69.105970125  \n",
       "CRPIX : 220.92793852  213.660785628  \n",
       "CD1_1 CD1_2  : -5.52742276729e-05  -9.66418424553e-08  \n",
       "CD2_1 CD2_2  : -4.91681964084e-07  5.53153613478e-05  \n",
       "NAXIS : 650  650>"
      ]
     },
     "execution_count": 10,
     "metadata": {},
     "output_type": "execute_result"
    }
   ],
   "source": [
    ">>> w.pixel_to_world"
   ]
  },
  {
   "cell_type": "code",
   "execution_count": null,
   "metadata": {},
   "outputs": [],
   "source": []
  },
  {
   "cell_type": "code",
   "execution_count": null,
   "metadata": {},
   "outputs": [],
   "source": []
  }
 ],
 "metadata": {
  "kernelspec": {
   "display_name": "Python 3",
   "language": "python",
   "name": "python3"
  },
  "language_info": {
   "codemirror_mode": {
    "name": "ipython",
    "version": 3
   },
   "file_extension": ".py",
   "mimetype": "text/x-python",
   "name": "python",
   "nbconvert_exporter": "python",
   "pygments_lexer": "ipython3",
   "version": "3.6.8"
  }
 },
 "nbformat": 4,
 "nbformat_minor": 2
}
